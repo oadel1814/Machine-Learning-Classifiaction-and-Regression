{
 "cells": [
  {
   "cell_type": "markdown",
   "id": "c4ef68c2",
   "metadata": {},
   "source": [
    "# Import required Libraries"
   ]
  },
  {
   "cell_type": "code",
   "execution_count": 64,
   "id": "02e0a2d5",
   "metadata": {},
   "outputs": [],
   "source": [
    "import pandas as pd\n",
    "import numpy as np\n",
    "from sklearn.discriminant_analysis import StandardScaler\n",
    "import matplotlib.pyplot as plt\n",
    "from sklearn.preprocessing import StandardScaler\n",
    "from sklearn.linear_model import Lasso\n",
    "from sklearn.metrics import mean_squared_error, r2_score, mean_absolute_error\n",
    "from sklearn.linear_model import SGDRegressor"
   ]
  },
  {
   "cell_type": "markdown",
   "id": "3cc7e088",
   "metadata": {},
   "source": [
    "# 1. Data Loading and preparation"
   ]
  },
  {
   "cell_type": "code",
   "execution_count": null,
   "id": "76cc94a8",
   "metadata": {},
   "outputs": [],
   "source": [
    "\n",
    "\n",
    "california_houses=pd.read_csv(\"datasets/California_Houses.csv\")\n",
    "\n",
    "# Separate features (X) and target (T)\n",
    "X = california_houses.drop(columns=['Median_House_Value'])\n",
    "T = california_houses['Median_House_Value']\n",
    "\n",
    "\n",
    "# Shuffle the data to ensure randomness\n",
    "shuffled_data = pd.concat([X, T], axis=1).sample(frac=1, random_state=42).reset_index(drop=True)\n",
    "X_shuffled = shuffled_data.drop(columns=['Median_House_Value'])\n",
    "T_shuffled = shuffled_data['Median_House_Value']\n",
    "\n",
    "# Define the split points (70% train, 15% validation, 15% test)\n",
    "#raw means before scaling (normalization)\n",
    "total_rows = X_shuffled.shape[0]\n",
    "train_end = int(total_rows * 0.7)\n",
    "validation_end = int(total_rows * 0.85)\n",
    "\n",
    "# Assign the training data portion (0% to 70%)\n",
    "X_train_raw = X_shuffled.iloc[:train_end]\n",
    "T_train = T_shuffled.iloc[:train_end]\n",
    "\n",
    "# Assign the validation data portion (70% to 85%)\n",
    "X_validation_raw = X_shuffled.iloc[train_end:validation_end]\n",
    "T_validation = T_shuffled.iloc[train_end:validation_end]\n",
    "\n",
    "# Assign the test data portion (85% to 100%)\n",
    "X_test_raw = X_shuffled.iloc[validation_end:]\n",
    "T_test = T_shuffled.iloc[validation_end:]\n",
    "\n",
    "\n",
    "# --- Feature Scaling (Crucial for Gradient Descent) ---\n",
    "\n",
    "#scaler is used to normalize features , mean =0 , std = 1\n",
    "\n",
    "# Gradient Descent converges faster when features are on similar scales\n",
    "# Prevents features with large values from dominating the learning process\n",
    "# Ensures all features contribute equally to the model\n",
    "scaler = StandardScaler()\n",
    "\n",
    "X_train_scaled = scaler.fit_transform(X_train_raw)\n",
    "\n",
    "X_validation_scaled = scaler.transform(X_validation_raw)\n",
    "X_test_scaled = scaler.transform(X_test_raw)\n",
    "\n",
    "\n",
    "# --- Add Bias Term ---\n",
    "\n",
    "# Add bias term (column of ones) to all three scaled sets\n",
    "X_train_with_bias_scaled = np.c_[np.ones((len(X_train_scaled), 1)), X_train_scaled]\n",
    "X_validation_with_bias_scaled = np.c_[np.ones((len(X_validation_scaled), 1)), X_validation_scaled]\n",
    "X_test_with_bias_scaled = np.c_[np.ones((len(X_test_scaled), 1)), X_test_scaled]\n",
    "\n",
    "\n",
    "# --- Reshape Target Vars to col vectors---\n",
    "\n",
    "T_train_col = T_train.values.reshape(-1, 1)\n",
    "T_validation_col = T_validation.values.reshape(-1, 1)\n",
    "T_test_col = T_test.values.reshape(-1, 1)\n"
   ]
  },
  {
   "cell_type": "markdown",
   "id": "a19a8409",
   "metadata": {},
   "source": [
    "# 2. Direct Solution (Normal Equation)\n",
    "![Screenshot 2025-10-19 211346.png](data:image/png;base64,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)\n",
    "\n",
    "##### This code finds the optimal model parameters ($\\omega$) using the direct analytical solution known as the Normal Equation.This method calculates the result in a single step, avoiding iterative methods like Gradient Descent. However, it can be computationally slow for datasets with a large number of features.\n",
    "#### The Normal Equation doesn't need normalization(scaled features) because it solves the problem in one step using a closed-form mathematical formula.It's not iterative, so it doesn't suffer from convergence issues."
   ]
  },
  {
   "cell_type": "code",
   "execution_count": 105,
   "id": "96208280",
   "metadata": {},
   "outputs": [],
   "source": [
    "X_train_with_bias_raw = np.c_[np.ones((len(X_train_raw), 1)), X_train_raw.values]\n",
    "\n",
    "W_direct_sol = np.linalg.pinv(X_train_with_bias_raw.T @ X_train_with_bias_raw) @ X_train_with_bias_raw.T @ T_train_col\n",
    "\n",
    "# --- Predict on Test validation and test sets ---\n",
    "X_test_with_bias_raw = np.c_[np.ones((len(X_test_raw), 1)), X_test_raw.values]\n",
    "X_validation_with_bias_raw = np.c_[np.ones((len(X_validation_raw), 1)), X_validation_raw.values]\n",
    "\n",
    "\n",
    "T_validation_prediction = X_validation_with_bias_raw @ W_direct_sol\n",
    "T_test_prediction = X_test_with_bias_raw @ W_direct_sol\n"
   ]
  },
  {
   "cell_type": "markdown",
   "id": "e68c489c",
   "metadata": {},
   "source": [
    "## 3. Gradient Descent Solution\n",
    "![image.png](data:image/png;base64,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)\n",
    "\n",
    "Gradient Descent Algorithm for Linear Regression\n",
    "    \n",
    "    Cost Function (MSE):\n",
    "        J(W) = (1/2m) * Σ(i=1 to m) [h(x^(i)) - y^(i)]²\n",
    "        where h(x) = W₀ + W₁x₁ + W₂x₂ + ... + Wₙxₙ = X @ W\n",
    "        my prediction - real thing\n",
    "        \n",
    "    Partial Derivatives (Gradients):\n",
    "        ∂J/∂Wⱼ = (1/m) * Σ(i=1 to m) [(h(x^(i)) - y^(i)) * xⱼ^(i)]\n",
    "        \n",
    "        For each weight Wⱼ (j = 0, 1, 2, ..., n):\n",
    "        - Sum over all m training examples\n",
    "        - Multiply error by the j-th feature value\n",
    "        - Average by dividing by m\n",
    "    \n",
    "    Update Rule:\n",
    "        Wⱼ := Wⱼ - learningRate * ∂J/∂Wⱼ\n",
    "        := means assigned to\n",
    "    \n",
    "    Vectorized Form:\n",
    "        gradient = (1/m) * X^T @ (X @ W - y)"
   ]
  },
  {
   "cell_type": "code",
   "execution_count": 106,
   "id": "285f2806",
   "metadata": {},
   "outputs": [],
   "source": [
    "\n",
    "def gradient_descent(X, y, learning_rate=0.01, n_iterations=2000):\n",
    "    m = len(y)\n",
    "    # Initialize theta (coefficients) to zeros\n",
    "    W = np.zeros((X.shape[1], 1))\n",
    "\n",
    "    for _ in range(n_iterations):\n",
    "        error = (X @ W) - y\n",
    "        gradients = (1/m) * X.T @ error\n",
    "        W = W - learning_rate * gradients\n",
    "\n",
    "    return W\n",
    "\n",
    "# --- 1. Train (Using SCALED features) ---\n",
    "learning_rate = 0.01\n",
    "n_iterations = 2000\n",
    "W_gd = gradient_descent(X_train_with_bias_scaled, T_train_col, learning_rate, n_iterations)\n",
    "\n",
    "# --- 2. Predict on validation Set ---\n",
    "T_validation_predict_gd = X_validation_with_bias_scaled @ W_gd\n",
    "\n",
    "# --- 3. Predict on test Set ---\n",
    "T_test_predict_gd = X_test_with_bias_scaled @ W_gd"
   ]
  },
  {
   "cell_type": "markdown",
   "id": "8bbd5fd4",
   "metadata": {},
   "source": [
    "# 4. Gradient Descent (Batch) - Regularized Verions"
   ]
  },
  {
   "cell_type": "code",
   "execution_count": null,
   "id": "8f5d9f8a",
   "metadata": {},
   "outputs": [],
   "source": [
    "# Helper function to calculate Mean Squared Error\n",
    "def calculate_mse(y_true, y_pred):\n",
    "    return np.mean((y_pred - y_true)**2)\n",
    "\n",
    "def ridge_gradient_descent(X, y, lambda_reg, learning_rate=0.01, n_iterations=5000):\n",
    "    m, n = X.shape\n",
    "    # Initialize theta (coefficients)\n",
    "    theta = np.zeros((n, 1))\n",
    "\n",
    "    for _ in range(n_iterations):\n",
    "        predictions = X @ theta\n",
    "        error = predictions - y\n",
    "        \n",
    "        # Standard Gradient (1/m * X.T @ error)\n",
    "        gradients = (1/m) * X.T @ error\n",
    "\n",
    "        # L2 Regularization Penalty Gradient (2*lambda*w)\n",
    "        # We create a penalty vector: weights * 2 * lambda_reg\n",
    "        l2_penalty_gradient = (2 * lambda_reg / m) * theta\n",
    "        l2_penalty_gradient[0] = 0 # Set penalty for bias term to zero\n",
    "\n",
    "        # Update theta with the combined gradient\n",
    "        theta = theta - learning_rate * (gradients + l2_penalty_gradient)\n",
    "        \n",
    "    return theta\n"
   ]
  },
  {
   "cell_type": "markdown",
   "id": "1702b1af",
   "metadata": {},
   "source": [
    "#  Regularization Tuning & Plotting (Manual Implementation)\n",
    "\n",
    "![image.png](data:image/png;base64,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)"
   ]
  },
  {
   "cell_type": "markdown",
   "id": "43a03760",
   "metadata": {},
   "source": [
    "# Tuning the learning rate"
   ]
  },
  {
   "cell_type": "code",
   "execution_count": 108,
   "id": "5720c9df",
   "metadata": {},
   "outputs": [
    {
     "name": "stdout",
     "output_type": "stream",
     "text": [
      "best learning rate (linear regression gcd) 0.25 with MSE 4573979053.968989\n"
     ]
    }
   ],
   "source": [
    "learning_rates =[0.0001, 0.001, 0.01, 0.05, 0.1,0.2,0.22,0.25]\n",
    "n_iterations = 20000\n",
    "\n",
    "mse_gcd=[]\n",
    "\n",
    "for lr in learning_rates:\n",
    "  w_gcd=gradient_descent(X_train_with_bias_scaled,T_train_col,lr,n_iterations)\n",
    "  y_val_pred_gcd= X_validation_with_bias_scaled @ w_gcd\n",
    "  mse=mean_squared_error(T_validation_col,y_val_pred_gcd)\n",
    "  mse_gcd.append(mse)\n",
    "\n",
    "best_lr_gcdlr=learning_rates[np.argmin(mse_gcd)]\n",
    "best_mse=min(mse_gcd)\n",
    "print(f\"best learning rate (linear regression gcd) {best_lr_gcdlr} with MSE {best_mse}\")"
   ]
  },
  {
   "cell_type": "code",
   "execution_count": 109,
   "id": "8d7910b8",
   "metadata": {},
   "outputs": [
    {
     "data": {
      "image/png": "[encoded data removed]",
      "text/plain": [
       "<Figure size 576x432 with 1 Axes>"
      ]
     },
     "metadata": {
      "needs_background": "light"
     },
     "output_type": "display_data"
    }
   ],
   "source": [
    "plt.figure(figsize=(8,6))\n",
    "plt.plot(learning_rates, mse_gcd, marker='o')\n",
    "plt.xlabel(\"Learning Rate\")\n",
    "plt.ylabel(\"Validation MSE\")\n",
    "plt.title(\"Manual Linear Regression: MSE vs Learning Rate\")\n",
    "plt.xscale('log')\n",
    "plt.grid(True)\n",
    "plt.show()"
   ]
  },
  {
   "cell_type": "markdown",
   "id": "4d82a516",
   "metadata": {},
   "source": [
    "# Lasso and Ridge Regression"
   ]
  },
  {
   "cell_type": "code",
   "execution_count": 111,
   "id": "1d778c30",
   "metadata": {},
   "outputs": [
    {
     "name": "stdout",
     "output_type": "stream",
     "text": [
      "Optimal Ridge λ: 1.0000e-03\n",
      "Optimal Lasso λ: 1.0000e-03\n"
     ]
    },
    {
     "data": {
      "image/png": "[encoded data removed]",
      "text/plain": [
       "<Figure size 720x432 with 1 Axes>"
      ]
     },
     "metadata": {
      "needs_background": "light"
     },
     "output_type": "display_data"
    },
    {
     "data": {
      "text/html": [
       "<div>\n",
       "<style scoped>\n",
       "    .dataframe tbody tr th:only-of-type {\n",
       "        vertical-align: middle;\n",
       "    }\n",
       "\n",
       "    .dataframe tbody tr th {\n",
       "        vertical-align: top;\n",
       "    }\n",
       "\n",
       "    .dataframe thead th {\n",
       "        text-align: right;\n",
       "    }\n",
       "</style>\n",
       "<table border=\"1\" class=\"dataframe\">\n",
       "  <thead>\n",
       "    <tr style=\"text-align: right;\">\n",
       "      <th></th>\n",
       "      <th>Model</th>\n",
       "      <th>MSE</th>\n",
       "      <th>MAE</th>\n",
       "    </tr>\n",
       "  </thead>\n",
       "  <tbody>\n",
       "    <tr>\n",
       "      <th>0</th>\n",
       "      <td>Ridge Regression</td>\n",
       "      <td>5.143673e+09</td>\n",
       "      <td>51229.397253</td>\n",
       "    </tr>\n",
       "    <tr>\n",
       "      <th>1</th>\n",
       "      <td>Lasso Regression</td>\n",
       "      <td>5.119929e+09</td>\n",
       "      <td>50983.637432</td>\n",
       "    </tr>\n",
       "  </tbody>\n",
       "</table>\n",
       "</div>"
      ],
      "text/plain": [
       "              Model           MSE           MAE\n",
       "0  Ridge Regression  5.143673e+09  51229.397253\n",
       "1  Lasso Regression  5.119929e+09  50983.637432"
      ]
     },
     "execution_count": 111,
     "metadata": {},
     "output_type": "execute_result"
    }
   ],
   "source": [
    "\n",
    "# --- 1. Define Lambda Range ---\n",
    "lambda_values = np.logspace(-3, 3, 30)  # from 10^-6 to 10^2\n",
    "\n",
    "ridge_validation_errors = []\n",
    "lasso_validation_errors = []\n",
    "\n",
    "# --- 2. Ridge Regression (manual gradient descent version) ---\n",
    "for lambda_val in lambda_values:\n",
    "    ridge_weights = ridge_gradient_descent(\n",
    "        X_train_with_bias_scaled, T_train_col,\n",
    "        lambda_reg=lambda_val,\n",
    "        learning_rate=0.01,\n",
    "        n_iterations=5000\n",
    "    )\n",
    "    T_validation_predict_ridge = X_validation_with_bias_scaled @ ridge_weights\n",
    "    mse_val = calculate_mse(T_validation_col, T_validation_predict_ridge)\n",
    "    ridge_validation_errors.append(mse_val)\n",
    "\n",
    "# --- 3. Lasso Regression (using sklearn) ---\n",
    "for lambda_val in lambda_values:\n",
    "    lasso = Lasso(alpha=lambda_val, max_iter=50000)\n",
    "    lasso.fit(X_train_scaled, T_train_col.ravel())  # no bias column\n",
    "    T_validation_predict_lasso = lasso.predict(X_validation_scaled)\n",
    "    mse_val = mean_squared_error(T_validation_col, T_validation_predict_lasso)\n",
    "    lasso_validation_errors.append(mse_val)\n",
    "\n",
    "# --- 4. Optimal Lambdas ---\n",
    "optimal_lambda_ridge = lambda_values[np.argmin(ridge_validation_errors)]\n",
    "optimal_lambda_lasso = lambda_values[np.argmin(lasso_validation_errors)]\n",
    "\n",
    "print(f\"Optimal Ridge λ: {optimal_lambda_ridge:.4e}\")\n",
    "print(f\"Optimal Lasso λ: {optimal_lambda_lasso:.4e}\")\n",
    "\n",
    "# --- 5. Plot Validation Error ---\n",
    "plt.figure(figsize=(10, 6))\n",
    "plt.semilogx(lambda_values, ridge_validation_errors, label='Ridge Validation MSE', marker='o')\n",
    "plt.semilogx(lambda_values, lasso_validation_errors, label='Lasso Validation MSE', marker='s')\n",
    "\n",
    "plt.scatter(optimal_lambda_ridge, np.min(ridge_validation_errors), color='blue', s=80, label='Optimal Ridge λ')\n",
    "plt.scatter(optimal_lambda_lasso, np.min(lasso_validation_errors), color='orange', s=80, label='Optimal Lasso λ')\n",
    "\n",
    "plt.xlabel(\"Regularization Parameter (λ)\")\n",
    "plt.ylabel(\"Validation Mean Squared Error\")\n",
    "plt.title(\"Validation Error vs Regularization Parameter (Ridge & Lasso)\")\n",
    "plt.legend()\n",
    "plt.grid(True, which=\"both\", linestyle='--', linewidth=0.6)\n",
    "plt.show()\n",
    "\n",
    "# --- 6. Retrain Final Models with Optimal Lambdas ---\n",
    "ridge_weights_opt = ridge_gradient_descent(\n",
    "    X_train_with_bias_scaled, T_train_col,\n",
    "    lambda_reg=optimal_lambda_ridge,\n",
    "    learning_rate=0.01,\n",
    "    n_iterations=5000\n",
    ")\n",
    "\n",
    "lasso_opt = Lasso(alpha=optimal_lambda_lasso, max_iter=10000)\n",
    "lasso_opt.fit(X_train_scaled, T_train_col.ravel())\n",
    "\n",
    "# --- 7. Predict on Test Set ---\n",
    "T_test_predict_ridge = X_test_with_bias_scaled @ ridge_weights_opt\n",
    "T_test_predict_lasso = lasso_opt.predict(X_test_scaled)\n",
    "\n",
    "# --- 8. Compute MSE and MAE ---\n",
    "ridge_mse = mean_squared_error(T_test_col, T_test_predict_ridge)\n",
    "ridge_mae = mean_absolute_error(T_test_col, T_test_predict_ridge)\n",
    "\n",
    "lasso_mse = mean_squared_error(T_test_col, T_test_predict_lasso)\n",
    "lasso_mae = mean_absolute_error(T_test_col, T_test_predict_lasso)\n",
    "\n",
    "results_dict = {\n",
    "    \"Model\": [\"Ridge Regression\", \"Lasso Regression\"],\n",
    "    \"MSE\": [ridge_mse, lasso_mse],\n",
    "    \"MAE\": [ridge_mae, lasso_mae]\n",
    "}\n",
    "\n",
    "results_df = pd.DataFrame(results_dict)\n",
    "results_df\n"
   ]
  },
  {
   "cell_type": "markdown",
   "id": "73db13b8",
   "metadata": {},
   "source": [
    "# Gradient Descent Using Scikit-learn"
   ]
  },
  {
   "cell_type": "code",
   "execution_count": 89,
   "id": "38a4cdd7",
   "metadata": {},
   "outputs": [
    {
     "name": "stdout",
     "output_type": "stream",
     "text": [
      "\n",
      "Scikit-Learn SGD predictions completed.\n"
     ]
    }
   ],
   "source": [
    "\n",
    "\"\"\"\n",
    "SGDRegressor uses Stochastic Gradient Descent (SGD) by default,\n",
    "which updates weights after each sample (or mini-batch).\n",
    "We configure it to behave more like Batch GD for fair comparison.\n",
    "\n",
    "Key parameters:\n",
    "- max_iter: maximum number of epochs (passes through dataset)\n",
    "- learning_rate: 'constant' with eta0 to match our learning rate\n",
    "- penalty: None for standard linear regression (no regularization)\n",
    "- tol: tolerance for stopping criterion\n",
    "\"\"\"\n",
    "\n",
    "# Initialize SGDRegressor\n",
    "sgd_regressor = SGDRegressor(\n",
    "    max_iter=2000,           # Match our n_iterations\n",
    "    learning_rate='constant', # Use constant learning rate\n",
    "    eta0=0.01,               # Match our learning_rate\n",
    "    penalty=None,            # No regularization (standard linear regression)\n",
    "    random_state=42,         # For reproducibility\n",
    "    tol=1e-6                 # Stopping tolerance\n",
    ")\n",
    "\n",
    "# Train on scaled training data (without bias term - sklearn adds it automatically)\n",
    "sgd_regressor.fit(X_train_scaled, T_train_col.ravel())\n",
    "\n",
    "# Get coefficients (sklearn handles bias separately)\n",
    "W_sklearn = np.concatenate([[sgd_regressor.intercept_[0]], sgd_regressor.coef_])\n",
    "\n",
    "# --- Predict on Validation and Test Sets ---\n",
    "T_validation_predict_sklearn = sgd_regressor.predict(X_validation_scaled).reshape(-1, 1)\n",
    "T_test_predict_sklearn = sgd_regressor.predict(X_test_scaled).reshape(-1, 1)\n",
    "\n",
    "print(\"\\nScikit-Learn SGD predictions completed.\")"
   ]
  },
  {
   "cell_type": "markdown",
   "id": "ef740e4b",
   "metadata": {},
   "source": [
    "# Comparison and Evaluation Using SciKit"
   ]
  },
  {
   "cell_type": "code",
   "execution_count": 112,
   "id": "4e8db940",
   "metadata": {},
   "outputs": [],
   "source": [
    "\n",
    "\n",
    "def compare_metrics_all(\n",
    "    T_true,\n",
    "    T_pred_normal,\n",
    "    T_pred_gd,\n",
    "    T_pred_sklearn,\n",
    "    T_pred_ridge,\n",
    "    T_pred_lasso,\n",
    "    model_type\n",
    "):\n",
    "    \"\"\"Calculates and compares MSE and MAE for all models including Ridge & Lasso.\"\"\"\n",
    "    \n",
    "    # --- Normal Equation ---\n",
    "    mse_normal = mean_squared_error(T_true, T_pred_normal)\n",
    "    mae_normal = mean_absolute_error(T_true, T_pred_normal)\n",
    "    \n",
    "    # --- Manual Gradient Descent ---\n",
    "    mse_gd = mean_squared_error(T_true, T_pred_gd)\n",
    "    mae_gd = mean_absolute_error(T_true, T_pred_gd)\n",
    "    \n",
    "    # --- Scikit-Learn SGD ---\n",
    "    mse_sklearn = mean_squared_error(T_true, T_pred_sklearn)\n",
    "    mae_sklearn = mean_absolute_error(T_true, T_pred_sklearn)\n",
    "    \n",
    "    # --- Ridge Regression ---\n",
    "    mse_ridge = mean_squared_error(T_true, T_pred_ridge)\n",
    "    mae_ridge = mean_absolute_error(T_true, T_pred_ridge)\n",
    "    \n",
    "    # --- Lasso Regression ---\n",
    "    mse_lasso = mean_squared_error(T_true, T_pred_lasso)\n",
    "    mae_lasso = mean_absolute_error(T_true, T_pred_lasso)\n",
    "    \n",
    "    # --- comparison table ---\n",
    "    metrics_df = pd.DataFrame({\n",
    "        'Metric': ['MSE', 'MAE'],\n",
    "        'Normal Eq.': [f'{mse_normal:,.2f}', f'{mae_normal:,.2f}'],\n",
    "        'Manual GD': [f'{mse_gd:,.2f}', f'{mae_gd:,.2f}'],\n",
    "        'Scikit-Learn SGD': [f'{mse_sklearn:,.2f}', f'{mae_sklearn:,.2f}'],\n",
    "        'Ridge': [f'{mse_ridge:,.2f}', f'{mae_ridge:,.2f}'],\n",
    "        'Lasso': [f'{mse_lasso:,.2f}', f'{mae_lasso:,.2f}']\n",
    "    })\n",
    "    \n",
    "    print(f\"\\n--- Model Performance Comparison on the {model_type} ---\")\n",
    "    display(metrics_df)\n",
    "    return metrics_df\n",
    "\n",
    "\n"
   ]
  },
  {
   "cell_type": "markdown",
   "id": "faa22557",
   "metadata": {},
   "source": [
    "# Comprehensive Comparison of all Methods"
   ]
  },
  {
   "cell_type": "code",
   "execution_count": 101,
   "id": "d5617aeb",
   "metadata": {},
   "outputs": [
    {
     "name": "stdout",
     "output_type": "stream",
     "text": [
      "         TEST SET METRICS COMPARISON\n",
      "\n",
      "--- Model Performance Comparison on the Test Set ---\n"
     ]
    },
    {
     "data": {
      "text/html": [
       "<div>\n",
       "<style scoped>\n",
       "    .dataframe tbody tr th:only-of-type {\n",
       "        vertical-align: middle;\n",
       "    }\n",
       "\n",
       "    .dataframe tbody tr th {\n",
       "        vertical-align: top;\n",
       "    }\n",
       "\n",
       "    .dataframe thead th {\n",
       "        text-align: right;\n",
       "    }\n",
       "</style>\n",
       "<table border=\"1\" class=\"dataframe\">\n",
       "  <thead>\n",
       "    <tr style=\"text-align: right;\">\n",
       "      <th></th>\n",
       "      <th>Metric</th>\n",
       "      <th>Normal Eq.</th>\n",
       "      <th>Manual GD</th>\n",
       "      <th>Scikit-Learn SGD</th>\n",
       "      <th>Ridge</th>\n",
       "      <th>Lasso</th>\n",
       "    </tr>\n",
       "  </thead>\n",
       "  <tbody>\n",
       "    <tr>\n",
       "      <th>0</th>\n",
       "      <td>MSE</td>\n",
       "      <td>5,139,417,461.45</td>\n",
       "      <td>5,151,602,316.86</td>\n",
       "      <td>5,233,178,299.54</td>\n",
       "      <td>5,143,672,693.73</td>\n",
       "      <td>5,119,928,534.64</td>\n",
       "    </tr>\n",
       "    <tr>\n",
       "      <th>1</th>\n",
       "      <td>MAE</td>\n",
       "      <td>51,162.82</td>\n",
       "      <td>51,567.49</td>\n",
       "      <td>52,930.36</td>\n",
       "      <td>51,229.40</td>\n",
       "      <td>50,983.64</td>\n",
       "    </tr>\n",
       "  </tbody>\n",
       "</table>\n",
       "</div>"
      ],
      "text/plain": [
       "  Metric        Normal Eq.         Manual GD  Scikit-Learn SGD  \\\n",
       "0    MSE  5,139,417,461.45  5,151,602,316.86  5,233,178,299.54   \n",
       "1    MAE         51,162.82         51,567.49         52,930.36   \n",
       "\n",
       "              Ridge             Lasso  \n",
       "0  5,143,672,693.73  5,119,928,534.64  \n",
       "1         51,229.40         50,983.64  "
      ]
     },
     "metadata": {},
     "output_type": "display_data"
    },
    {
     "name": "stdout",
     "output_type": "stream",
     "text": [
      "\n",
      "comments on the results and comparison between the models:\n",
      "  - All three methods should produce similar results on scaled data\n",
      "  - Small differences may occur due to:\n",
      "    * Different convergence criteria\n",
      "    * Numerical precision\n",
      "    * Implementation details (batch vs stochastic updates)\n"
     ]
    }
   ],
   "source": [
    "# V-C. \n",
    "\n",
    "\n",
    "# --- Compare Metrics on Test Set ---\n",
    "print(\"         TEST SET METRICS COMPARISON\")\n",
    "# Compare all models\n",
    "compare_metrics_all(\n",
    "    T_test_col,\n",
    "    T_test_prediction,\n",
    "    T_test_predict_gd,\n",
    "    T_test_predict_sklearn,\n",
    "    T_test_predict_ridge,\n",
    "    T_test_predict_lasso,\n",
    "    \"Test Set\"\n",
    ")\n",
    "\n",
    "\n",
    "# -- comments on the results and comparison between the models -- \n",
    "print(f\"\\ncomments on the results and comparison between the models:\")\n",
    "print(f\"  - All three methods should produce similar results on scaled data\")\n",
    "print(f\"  - Small differences may occur due to:\")\n",
    "print(f\"    * Different convergence criteria\")\n",
    "print(f\"    * Numerical precision\")\n",
    "print(f\"    * Implementation details (batch vs stochastic updates)\")"
   ]
  }
 ],
 "metadata": {
  "kernelspec": {
   "display_name": "Python 3",
   "language": "python",
   "name": "python3"
  },
  "language_info": {
   "codemirror_mode": {
    "name": "ipython",
    "version": 3
   },
   "file_extension": ".py",
   "mimetype": "text/x-python",
   "name": "python",
   "nbconvert_exporter": "python",
   "pygments_lexer": "ipython3",
   "version": "3.10.12"
  }
 },
 "nbformat": 4,
 "nbformat_minor": 5
}
